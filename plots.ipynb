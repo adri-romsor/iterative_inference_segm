{
 "cells": [
  {
   "cell_type": "code",
   "execution_count": 1,
   "metadata": {
    "collapsed": false
   },
   "outputs": [
    {
     "name": "stderr",
     "output_type": "stream",
     "text": [
      "/Tmp/lisa/os_v5/anaconda/lib/python2.7/site-packages/IPython/html.py:14: ShimWarning: The `IPython.html` package has been deprecated. You should import from `notebook` instead. `IPython.html.widgets` has moved to `ipywidgets`.\n",
      "  \"`IPython.html.widgets` has moved to `ipywidgets`.\", ShimWarning)\n"
     ]
    }
   ],
   "source": [
    "import numpy as np\n",
    "import h5py\n",
    "import os\n",
    "\n",
    "import matplotlib.pyplot as plt\n",
    "\n",
    "from helpers import build_experiment_name\n",
    "\n",
    "%matplotlib inline"
   ]
  },
  {
   "cell_type": "code",
   "execution_count": 2,
   "metadata": {
    "collapsed": true
   },
   "outputs": [],
   "source": [
    "# path where the models are\n",
    "path  = '/data/lisatmp4/romerosa/itinf/models/'"
   ]
  },
  {
   "cell_type": "code",
   "execution_count": 107,
   "metadata": {
    "collapsed": false
   },
   "outputs": [],
   "source": [
    "# model info\n",
    "dataset = 'camvid'\n",
    "\n",
    "dae_dict = {'kind': 'fcn8',\n",
    "            'dropout': 0.5,\n",
    "            'skip': True,\n",
    "            'unpool_type': 'standard',\n",
    "            'n_filters': 64,\n",
    "            'conv_before_pool': 1,\n",
    "            'additional_pool': 0,\n",
    "            'concat_h': ['input'],\n",
    "            'noise': 0.0,\n",
    "            'from_gt': False,\n",
    "            'temperature': 1.0}\n",
    "\n",
    "data_augmentation = True\n",
    "\n",
    "train_dict = {'training_loss': ['crossentropy', 'squared_error', 'squared_error_h'],\n",
    "              'learning_rate': 0.0001,\n",
    "              'lr_anneal': 0.99,\n",
    "              'weight_decay': 0.0001,\n",
    "              'optimizer': 'rmsprop'}\n",
    "\n",
    "merge_dict = {}\n",
    "merge_dict.update(dae_dict)\n",
    "merge_dict.update(train_dict)"
   ]
  },
  {
   "cell_type": "code",
   "execution_count": 108,
   "metadata": {
    "collapsed": false
   },
   "outputs": [
    {
     "name": "stdout",
     "output_type": "stream",
     "text": [
      "fcn8_input_dropout0.5_crossentropy_squared_error_squared_error_h_fromfcn8_z0.0_data_aug_T1.0_rmsprop_lr0.0001_anneal0.99_decay0.0001\n"
     ]
    }
   ],
   "source": [
    "# build experiment name from model info\n",
    "exp_name = build_experiment_name(data_aug=data_augmentation, **merge_dict)\n",
    "\n",
    "exp_path = os.path.join(path, dataset, exp_name)\n",
    "last = 'dae_errors_last.npz'\n",
    "best = 'dae_errors_best.npz'"
   ]
  },
  {
   "cell_type": "code",
   "execution_count": 111,
   "metadata": {
    "collapsed": false
   },
   "outputs": [],
   "source": [
    "err_plot = np.load(os.path.join(exp_path, last))\n",
    "err_train = err_plot['arr_1']\n",
    "err_val = err_plot['arr_0']"
   ]
  },
  {
   "cell_type": "code",
   "execution_count": 112,
   "metadata": {
    "collapsed": false
   },
   "outputs": [
    {
     "name": "stdout",
     "output_type": "stream",
     "text": [
      "TRAIN: 0.205256346915\n",
      "VALID: 0.392606534741\n"
     ]
    },
    {
     "data": {
      "image/png": "[encoded data removed]",
      "text/plain": [
       "<matplotlib.figure.Figure at 0x7fc5154aa310>"
      ]
     },
     "metadata": {},
     "output_type": "display_data"
    }
   ],
   "source": [
    "max_epoch = len(err_train)\n",
    "epochs = range(max_epoch)\n",
    "\n",
    "# Plot data\n",
    "plt.plot(epochs, err_train, 'r', label='train err ({:.3f})'.format(np.min(err_train)))\n",
    "plt.plot(epochs, err_val, 'g', label='val err ({:.3f})'.format(np.min(err_val)))\n",
    "\n",
    "# Add legend\n",
    "plt.legend()\n",
    "\n",
    "# Add title\n",
    "plt.title(exp_name)\n",
    "plt.xlabel('Epoch')\n",
    "plt.ylabel('Error')\n",
    "\n",
    "print('TRAIN: ' + str(err_train.min()))\n",
    "print('VALID: ' + str(err_val.min()))"
   ]
  },
  {
   "cell_type": "code",
   "execution_count": null,
   "metadata": {
    "collapsed": true
   },
   "outputs": [],
   "source": []
  },
  {
   "cell_type": "code",
   "execution_count": null,
   "metadata": {
    "collapsed": true
   },
   "outputs": [],
   "source": []
  }
 ],
 "metadata": {
  "kernelspec": {
   "display_name": "Python 2",
   "language": "python",
   "name": "python2"
  },
  "language_info": {
   "codemirror_mode": {
    "name": "ipython",
    "version": 2
   },
   "file_extension": ".py",
   "mimetype": "text/x-python",
   "name": "python",
   "nbconvert_exporter": "python",
   "pygments_lexer": "ipython2",
   "version": "2.7.13"
  }
 },
 "nbformat": 4,
 "nbformat_minor": 0
}
